{
 "cells": [
  {
   "cell_type": "code",
   "execution_count": 14,
   "metadata": {},
   "outputs": [
    {
     "name": "stdout",
     "output_type": "stream",
     "text": [
      "[[ 0  1  2  3  4  5]\n",
      " [ 6  7  8  9 10 11]\n",
      " [12 13 14 15 16 17]\n",
      " [18 19 20 21 22 23]]\n",
      "------------------------\n",
      "[[ 5  5  5  5  5  5]\n",
      " [ 5  5  5  5 10 11]\n",
      " [12 13 14 15 16 17]\n",
      " [18 19 20 21 22 23]]\n",
      "------------------------\n",
      "[[ 0  0  0  0  0  0]\n",
      " [ 0  0  0  0 10 10]\n",
      " [10 10 10 10 10 10]\n",
      " [10 10 10 10 10 10]]\n",
      "------------------------\n",
      "[[10 10 10 10 10 10]\n",
      " [10 10 10 10 10 11]\n",
      " [12 13 14 15 16 17]\n",
      " [18 19 20 20 20 20]]\n"
     ]
    }
   ],
   "source": [
    "import numpy as np\n",
    "t1=np.arange(24).reshape(4,6)\n",
    "print(t1)\n",
    "print(\"------------------------\")\n",
    "#将t1中小于10的值替换为5#\n",
    "t1[t1<10]=5\n",
    "print(t1)\n",
    "print(\"------------------------\")\n",
    "#使用np.where#\n",
    "t2=np.where(t1<10,0,10)\n",
    "print(t2)\n",
    "print(\"------------------------\")\n",
    "#使用.clip#\n",
    "t3=t1.clip(10,20)\n",
    "print(t3)\n"
   ]
  }
 ],
 "metadata": {
  "kernelspec": {
   "display_name": "test",
   "language": "python",
   "name": "python3"
  },
  "language_info": {
   "codemirror_mode": {
    "name": "ipython",
    "version": 3
   },
   "file_extension": ".py",
   "mimetype": "text/x-python",
   "name": "python",
   "nbconvert_exporter": "python",
   "pygments_lexer": "ipython3",
   "version": "3.9.17"
  },
  "orig_nbformat": 4
 },
 "nbformat": 4,
 "nbformat_minor": 2
}
