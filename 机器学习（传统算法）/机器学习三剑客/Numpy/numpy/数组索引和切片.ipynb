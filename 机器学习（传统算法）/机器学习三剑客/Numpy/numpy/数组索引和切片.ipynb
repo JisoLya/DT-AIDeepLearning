{
 "cells": [
  {
   "cell_type": "code",
   "execution_count": 11,
   "metadata": {},
   "outputs": [
    {
     "name": "stdout",
     "output_type": "stream",
     "text": [
      "[[ 0  1  2  3]\n",
      " [ 4  5  6  7]\n",
      " [ 8  9 10 11]\n",
      " [12 13 14 15]\n",
      " [16 17 18 19]\n",
      " [20 21 22 23]]\n",
      "------------------------\n",
      "[ 8  9 10 11]\n",
      "------------------------\n",
      "[[ 8  9 10 11]\n",
      " [12 13 14 15]\n",
      " [16 17 18 19]\n",
      " [20 21 22 23]]\n",
      "------------------------\n",
      "[[ 4  5  6  7]\n",
      " [12 13 14 15]\n",
      " [20 21 22 23]]\n",
      "------------------------\n",
      "[ 0  4  8 12 16 20]\n",
      "------------------------\n",
      "[[ 2  3]\n",
      " [ 6  7]\n",
      " [10 11]\n",
      " [14 15]\n",
      " [18 19]\n",
      " [22 23]]\n",
      "------------------------\n",
      "[[ 0  2]\n",
      " [ 4  6]\n",
      " [ 8 10]\n",
      " [12 14]\n",
      " [16 18]\n",
      " [20 22]]\n"
     ]
    }
   ],
   "source": [
    "import numpy as np\n",
    "t1=np.arange(24).reshape(6,4)\n",
    "print(t1)\n",
    "print(\"------------------------\")\n",
    "#取行#\n",
    "print(t1[2])\n",
    "print(\"------------------------\")\n",
    "#连续取行#\n",
    "print(t1[2:])\n",
    "print('------------------------')\n",
    "#取不连续的行#\n",
    "print(t1[[1,3,5]])\n",
    "print('------------------------')\n",
    "#取列#\n",
    "print(t1[:,0])\n",
    "print('------------------------')\n",
    "#连续取列#\n",
    "print(t1[:,2:])\n",
    "print('------------------------')\n",
    "#取不连续多列#\n",
    "print(t1[:,[0,2]])\n"
   ]
  }
 ],
 "metadata": {
  "kernelspec": {
   "display_name": "test",
   "language": "python",
   "name": "python3"
  },
  "language_info": {
   "codemirror_mode": {
    "name": "ipython",
    "version": 3
   },
   "file_extension": ".py",
   "mimetype": "text/x-python",
   "name": "python",
   "nbconvert_exporter": "python",
   "pygments_lexer": "ipython3",
   "version": "3.9.17"
  },
  "orig_nbformat": 4
 },
 "nbformat": 4,
 "nbformat_minor": 2
}
