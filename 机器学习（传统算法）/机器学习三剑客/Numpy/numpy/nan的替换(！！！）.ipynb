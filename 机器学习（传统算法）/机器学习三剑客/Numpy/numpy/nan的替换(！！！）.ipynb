{
 "cells": [
  {
   "cell_type": "code",
   "execution_count": 3,
   "metadata": {},
   "outputs": [
    {
     "name": "stdout",
     "output_type": "stream",
     "text": [
      "[[ 0.  1.  2.  3.]\n",
      " [ 4.  5. nan nan]\n",
      " [ 8.  9. 10. 11.]]\n",
      "------------------------------------------\n",
      "[[ 0.  1.  2.  3.]\n",
      " [ 4.  5. nan nan]\n",
      " [ 8.  9. 10. 11.]]\n",
      "[[ 0.  1.  2.  3.]\n",
      " [ 4.  5.  6.  7.]\n",
      " [ 8.  9. 10. 11.]]\n"
     ]
    }
   ],
   "source": [
    "import numpy as np\n",
    "t1=np.arange(12).reshape((3,4)).astype('float')\n",
    "t1[1,2:]=np.nan\n",
    "print(t1)\n",
    "print('------------------------------------------')\n",
    "def fill_narray(t1):\n",
    " for i in range(t1.shape[1]):\n",
    "    temp_col=t1[:,i]\n",
    "    nan_num=np.count_nonzero(temp_col!=temp_col)\n",
    "    if nan_num !=0:\n",
    "       temp_not_nan_col=temp_col[temp_col==temp_col]\n",
    "       temp_col[np.isnan(temp_col)]=temp_not_nan_col.mean()\n",
    " return t1\n",
    "\n",
    "\n",
    "if __name__=='__main__':\n",
    " t1=np.arange(12).reshape((3,4)).astype('float')\n",
    " t1[1,2:]=np.nan\n",
    " print(t1)\n",
    " t1=fill_narray(t1)\n",
    " print(t1)"
   ]
  }
 ],
 "metadata": {
  "kernelspec": {
   "display_name": "test",
   "language": "python",
   "name": "python3"
  },
  "language_info": {
   "codemirror_mode": {
    "name": "ipython",
    "version": 3
   },
   "file_extension": ".py",
   "mimetype": "text/x-python",
   "name": "python",
   "nbconvert_exporter": "python",
   "pygments_lexer": "ipython3",
   "version": "3.9.17"
  },
  "orig_nbformat": 4
 },
 "nbformat": 4,
 "nbformat_minor": 2
}
