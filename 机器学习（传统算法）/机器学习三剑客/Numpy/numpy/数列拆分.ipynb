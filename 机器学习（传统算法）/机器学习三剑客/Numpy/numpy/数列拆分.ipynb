{
 "cells": [
  {
   "cell_type": "code",
   "execution_count": 22,
   "metadata": {},
   "outputs": [
    {
     "name": "stdout",
     "output_type": "stream",
     "text": [
      "[[5. 9. 1. 9. 3. 4. 8. 4. 5. 0. 7. 5.]\n",
      " [3. 7. 3. 4. 1. 4. 2. 2. 7. 2. 4. 9.]]\n",
      "---------------------------------\n",
      "[array([[5., 9., 1., 9.],\n",
      "       [3., 7., 3., 4.]]), array([[3., 4., 8., 4.],\n",
      "       [1., 4., 2., 2.]]), array([[5., 0., 7., 5.],\n",
      "       [7., 2., 4., 9.]])]\n",
      "---------------------------------\n"
     ]
    },
    {
     "data": {
      "text/plain": [
       "[array([[5., 9., 1.],\n",
       "        [3., 7., 3.]]),\n",
       " array([[9., 3., 4., 8.],\n",
       "        [4., 1., 4., 2.]]),\n",
       " array([[4., 5., 0., 7., 5.],\n",
       "        [2., 7., 2., 4., 9.]])]"
      ]
     },
     "execution_count": 22,
     "metadata": {},
     "output_type": "execute_result"
    }
   ],
   "source": [
    "import numpy as np\n",
    "rg = np.random.default_rng(1)\n",
    "a = np.floor(10 * rg.random((2, 12)))\n",
    "print(a)\n",
    "print('---------------------------------')\n",
    "t=np.hsplit(a,3)#将a数组拆成三个部分\n",
    "print(t)\n",
    "print('---------------------------------')\n",
    "t1=np.hsplit(a, np.array([3, 7]))\n",
    "t1"
   ]
  }
 ],
 "metadata": {
  "kernelspec": {
   "display_name": "test",
   "language": "python",
   "name": "python3"
  },
  "language_info": {
   "codemirror_mode": {
    "name": "ipython",
    "version": 3
   },
   "file_extension": ".py",
   "mimetype": "text/x-python",
   "name": "python",
   "nbconvert_exporter": "python",
   "pygments_lexer": "ipython3",
   "version": "3.9.17"
  },
  "orig_nbformat": 4
 },
 "nbformat": 4,
 "nbformat_minor": 2
}
