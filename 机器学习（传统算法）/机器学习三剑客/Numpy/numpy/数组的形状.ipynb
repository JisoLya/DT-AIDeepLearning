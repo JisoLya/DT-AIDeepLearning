{
 "cells": [
  {
   "cell_type": "code",
   "execution_count": 19,
   "metadata": {},
   "outputs": [
    {
     "name": "stdout",
     "output_type": "stream",
     "text": [
      "[ 0  1  2  3  4  5  6  7  8  9 10 11] (12,)\n",
      "[[1 2 3]\n",
      " [4 5 6]] (2, 3)\n",
      "[[[  1   2   3]\n",
      "  [  4   5   6]]\n",
      "\n",
      " [[  6   5   4]\n",
      "  [219  23   1]]] (2, 2, 3)\n",
      "[[ 0  1  2  3  4  5  6  7  8]\n",
      " [ 9 10 11 12 13 14 15 16 17]\n",
      " [18 19 20 21 22 23 24 25 26]\n",
      " [27 28 29 30 31 32 33 34 35]]\n",
      "[[[ 0  1  2  3  4  5]\n",
      "  [ 6  7  8  9 10 11]\n",
      "  [12 13 14 15 16 17]]\n",
      "\n",
      " [[18 19 20 21 22 23]\n",
      "  [24 25 26 27 28 29]\n",
      "  [30 31 32 33 34 35]]]\n",
      "[ 0  1  2  3  4  5  6  7  8  9 10 11 12 13 14 15 16 17 18 19 20 21 22 23\n",
      " 24 25 26 27 28 29 30 31 32 33 34 35]\n"
     ]
    }
   ],
   "source": [
    "import numpy as np\n",
    "# .shape 展示数组是几维数组 #\n",
    "t1=np.arange(12)\n",
    "print(t1,t1.shape)\n",
    "\n",
    "t2=np.array([[1,2,3],[4,5,6]])\n",
    "print(t2,t2.shape)\n",
    "\n",
    "t3=np.array([[[1,2,3],[4,5,6]],[[6,5,4],[219,23,1]]])\n",
    "print(t3,t3.shape)\n",
    "\n",
    "#改变数组维数#\n",
    "t4=np.arange(36)\n",
    "t5=t4.reshape((4,9))#从1维改成2维#\n",
    "print(t5)\n",
    "t6=t4.reshape((2,3,6))#1维改成3维#\n",
    "print(t6)\n",
    "\n",
    "#.flatten的使用将其将为一维数组#\n",
    "print(t6.flatten())\n",
    "\n",
    "\n"
   ]
  }
 ],
 "metadata": {
  "kernelspec": {
   "display_name": "test",
   "language": "python",
   "name": "python3"
  },
  "language_info": {
   "codemirror_mode": {
    "name": "ipython",
    "version": 3
   },
   "file_extension": ".py",
   "mimetype": "text/x-python",
   "name": "python",
   "nbconvert_exporter": "python",
   "pygments_lexer": "ipython3",
   "version": "3.9.17"
  },
  "orig_nbformat": 4
 },
 "nbformat": 4,
 "nbformat_minor": 2
}
