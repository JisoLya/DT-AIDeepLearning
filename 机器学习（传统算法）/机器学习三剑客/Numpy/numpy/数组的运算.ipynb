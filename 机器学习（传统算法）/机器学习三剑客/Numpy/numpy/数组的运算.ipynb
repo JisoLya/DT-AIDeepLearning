{
 "cells": [
  {
   "cell_type": "code",
   "execution_count": 1,
   "metadata": {},
   "outputs": [
    {
     "name": "stdout",
     "output_type": "stream",
     "text": [
      "[[ 2  3  4  5]\n",
      " [ 6  7  8  9]\n",
      " [10 11 12 13]]\n",
      "[[ 2  4  6  8]\n",
      " [10 12 14 16]\n",
      " [18 20 22 24]]\n",
      "[[ 0  2  4  6]\n",
      " [ 4  6  8 10]\n",
      " [ 8 10 12 14]]\n",
      "---------------------------------\n",
      "[[ 0  1  2  3]\n",
      " [ 4  5  6  7]\n",
      " [ 8  9 10 11]]\n",
      "[4. 5. 6. 7.]\n",
      "[1.5 5.5 9.5]\n",
      "---------------------------------\n",
      "[ 3  7 11]\n",
      "[8 8 8 8]\n",
      "[3.26598632 3.26598632 3.26598632 3.26598632]\n"
     ]
    }
   ],
   "source": [
    "import numpy as np\n",
    "t1=np.arange(12).reshape(3,4)\n",
    "#数组与单个数字的运算#\n",
    "t2=t1+2\n",
    "print(t2)\n",
    "#同纬度数组之间的运算#\n",
    "t4=t1+t2\n",
    "print(t4)\n",
    "#不同维度数组之间的运算\n",
    "t5=np.arange(4)#一维数组加三维数组#\n",
    "print(t1+t5)\n",
    "print('---------------------------------')\n",
    "#数组内部运算#\n",
    "print(t1)\n",
    "np.sum(t1)#整体求和\n",
    "np.sum(t1,axis=0)#行求和，axis=1为列求和\n",
    "tmean=t1.mean(axis=0)#求平均\n",
    "print(tmean)\n",
    "tmedian=np.median(t1,axis=1)#求中值\n",
    "print(tmedian)\n",
    "print('---------------------------------')\n",
    "tmax=t1.max(axis=1)#求最大值\n",
    "print(tmax)\n",
    "tptp=np.ptp(t1,axis=0)#求极差\n",
    "print(tptp)\n",
    "tstd=t1.std(axis=0)#求标准差\n",
    "print(tstd)"
   ]
  }
 ],
 "metadata": {
  "kernelspec": {
   "display_name": "test",
   "language": "python",
   "name": "python3"
  },
  "language_info": {
   "codemirror_mode": {
    "name": "ipython",
    "version": 3
   },
   "file_extension": ".py",
   "mimetype": "text/x-python",
   "name": "python",
   "nbconvert_exporter": "python",
   "pygments_lexer": "ipython3",
   "version": "3.9.17"
  },
  "orig_nbformat": 4
 },
 "nbformat": 4,
 "nbformat_minor": 2
}
