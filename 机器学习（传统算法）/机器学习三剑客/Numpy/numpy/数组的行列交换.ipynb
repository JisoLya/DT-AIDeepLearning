{
 "cells": [
  {
   "cell_type": "code",
   "execution_count": 6,
   "metadata": {},
   "outputs": [
    {
     "name": "stdout",
     "output_type": "stream",
     "text": [
      "[[ 0  1  2  3  4  5]\n",
      " [ 6  7  8  9 10 11]]\n",
      "[[12 13 14 15 16 17]\n",
      " [18 19 20 21 22 23]]\n",
      "---------------------------------\n",
      "[[ 6  7  8  9 10 11]\n",
      " [ 0  1  2  3  4  5]]\n",
      "[[14 13 12 15 16 17]\n",
      " [20 19 18 21 22 23]]\n"
     ]
    }
   ],
   "source": [
    "import numpy as np\n",
    "t1=np.arange(12).reshape(2,6)\n",
    "t2=np.arange(12,24).reshape(2,6)\n",
    "print(t1)\n",
    "print(t2)\n",
    "print('---------------------------------')\n",
    "#行交换#\n",
    "t1[[0,1],:]=t1[[1,0],:]\n",
    "print(t1)\n",
    "#列交换#\n",
    "t2[:,[0,2]]=t2[:,[2,0]]\n",
    "print(t2)"
   ]
  }
 ],
 "metadata": {
  "kernelspec": {
   "display_name": "test",
   "language": "python",
   "name": "python3"
  },
  "language_info": {
   "codemirror_mode": {
    "name": "ipython",
    "version": 3
   },
   "file_extension": ".py",
   "mimetype": "text/x-python",
   "name": "python",
   "nbconvert_exporter": "python",
   "pygments_lexer": "ipython3",
   "version": "3.9.17"
  },
  "orig_nbformat": 4
 },
 "nbformat": 4,
 "nbformat_minor": 2
}
